{
 "cells": [
  {
   "cell_type": "code",
   "execution_count": 1,
   "id": "91f5f45b-5507-4182-bdc7-65422c675a9e",
   "metadata": {},
   "outputs": [],
   "source": [
    "import pandas as pd\n",
    "import numpy as np\n",
    "import scipy.stats as sps"
   ]
  },
  {
   "cell_type": "code",
   "execution_count": 2,
   "id": "09266955-064b-4c20-b39c-c7f7747d33b4",
   "metadata": {},
   "outputs": [
    {
     "name": "stdout",
     "output_type": "stream",
     "text": [
      "<class 'pandas.core.frame.DataFrame'>\n",
      "RangeIndex: 1874666 entries, 0 to 1874665\n",
      "Data columns (total 5 columns):\n",
      " #   Column      Dtype  \n",
      "---  ------      -----  \n",
      " 0   device_id   int64  \n",
      " 1   phenomenon  object \n",
      " 2   value       float64\n",
      " 3   logged_at   object \n",
      " 4   value_text  float64\n",
      "dtypes: float64(2), int64(1), object(2)\n",
      "memory usage: 71.5+ MB\n",
      "None\n",
      "<bound method NDFrame.describe of          device_id   phenomenon   value            logged_at  value_text\n",
      "0             1651         pm10  236.37  2019-11-28 21:30:15         NaN\n",
      "1             1651         pm25   58.28  2019-11-28 21:30:15         NaN\n",
      "2             1651     humidity   93.50  2019-11-28 21:30:15         NaN\n",
      "3             1651  temperature    2.10  2019-11-28 21:30:15         NaN\n",
      "4             1651         pm10  238.15  2019-11-28 21:32:46         NaN\n",
      "...            ...          ...     ...                  ...         ...\n",
      "1874661       1651  temperature   30.20  2024-09-13 16:21:17         NaN\n",
      "1874662       1651         pm10    7.10  2024-09-13 16:23:44         NaN\n",
      "1874663       1651         pm25    5.20  2024-09-13 16:23:44         NaN\n",
      "1874664       1651     humidity   24.50  2024-09-13 16:23:44         NaN\n",
      "1874665       1651  temperature   31.95  2024-09-13 16:23:44         NaN\n",
      "\n",
      "[1874666 rows x 5 columns]>\n"
     ]
    }
   ],
   "source": [
    "data = pd.read_csv('TblsvkPrvlk4.csv')\n",
    "print(data.info())\n",
    "print(data.describe)"
   ]
  },
  {
   "cell_type": "code",
   "execution_count": 3,
   "id": "3138723c-4472-475c-b096-9fa0118c4787",
   "metadata": {},
   "outputs": [
    {
     "name": "stdout",
     "output_type": "stream",
     "text": [
      "phenomenon  device_id            logged_at  humidity  is_old    pm10   pm25  \\\n",
      "0                1651  2019-11-28 21:30:15     93.50     NaN  236.37  58.28   \n",
      "1                1651  2019-11-28 21:32:46     93.50     NaN  238.15  57.22   \n",
      "2                1651  2019-11-28 21:40:37     93.50     NaN  293.77  65.50   \n",
      "3                1651  2019-11-28 21:43:04     93.40     NaN  264.45  63.44   \n",
      "4                1651  2019-11-28 21:45:31     93.40     NaN  264.89  63.03   \n",
      "...               ...                  ...       ...     ...     ...    ...   \n",
      "574224           1651  2024-09-13 16:11:31     51.70     NaN    9.03   5.98   \n",
      "574225           1651  2024-09-13 16:13:59     35.00     NaN    8.98   5.86   \n",
      "574226           1651  2024-09-13 16:16:25     32.85     NaN    6.36   5.28   \n",
      "574227           1651  2024-09-13 16:21:17     27.03     NaN    6.60   5.15   \n",
      "574228           1651  2024-09-13 16:23:44     24.50     NaN    7.10   5.20   \n",
      "\n",
      "phenomenon  temperature  \n",
      "0                  2.10  \n",
      "1                  2.10  \n",
      "2                  2.00  \n",
      "3                  1.85  \n",
      "4                  1.85  \n",
      "...                 ...  \n",
      "574224            29.95  \n",
      "574225            33.70  \n",
      "574226            31.70  \n",
      "574227            30.20  \n",
      "574228            31.95  \n",
      "\n",
      "[574229 rows x 7 columns]\n"
     ]
    }
   ],
   "source": [
    "## convert phenomenons as columns\n",
    "\n",
    "# data.groupby('phenomenon').apply(list).apply(pd.Series).T\n",
    "data = data.pivot_table(index=['device_id', 'logged_at'], columns='phenomenon', values='value').reset_index()\n",
    "print(data)"
   ]
  },
  {
   "cell_type": "code",
   "execution_count": 4,
   "id": "fbb79cf8-dad6-4f9f-91ec-fa072e39f0c0",
   "metadata": {},
   "outputs": [
    {
     "name": "stdout",
     "output_type": "stream",
     "text": [
      "True\n"
     ]
    }
   ],
   "source": [
    "data = data.drop(['is_old'], axis=1)\n",
    "print(data.isnull().values.any())\n",
    "data[data.isna().any(axis=1)]\n",
    "data = data.dropna()\n",
    "data = data.drop(data.columns[0], axis=1, inplace=True)\n"
   ]
  },
  {
   "cell_type": "code",
   "execution_count": 5,
   "id": "cbb25313-04ed-47e4-a5be-8955e7f0023a",
   "metadata": {},
   "outputs": [],
   "source": [
    "data.to_csv('preprocessed.csv')"
   ]
  },
  {
   "cell_type": "code",
   "execution_count": 6,
   "id": "57bb5aef-a614-46ba-87a8-0f19c0375f95",
   "metadata": {},
   "outputs": [
    {
     "data": {
      "text/html": [
       "<div>\n",
       "<style scoped>\n",
       "    .dataframe tbody tr th:only-of-type {\n",
       "        vertical-align: middle;\n",
       "    }\n",
       "\n",
       "    .dataframe tbody tr th {\n",
       "        vertical-align: top;\n",
       "    }\n",
       "\n",
       "    .dataframe thead th {\n",
       "        text-align: right;\n",
       "    }\n",
       "</style>\n",
       "<table border=\"1\" class=\"dataframe\">\n",
       "  <thead>\n",
       "    <tr style=\"text-align: right;\">\n",
       "      <th>phenomenon</th>\n",
       "      <th>humidity</th>\n",
       "      <th>pm10</th>\n",
       "      <th>pm25</th>\n",
       "      <th>temperature</th>\n",
       "    </tr>\n",
       "    <tr>\n",
       "      <th>phenomenon</th>\n",
       "      <th></th>\n",
       "      <th></th>\n",
       "      <th></th>\n",
       "      <th></th>\n",
       "    </tr>\n",
       "  </thead>\n",
       "  <tbody>\n",
       "    <tr>\n",
       "      <th>humidity</th>\n",
       "      <td>1.000000</td>\n",
       "      <td>0.109668</td>\n",
       "      <td>0.165976</td>\n",
       "      <td>-0.541027</td>\n",
       "    </tr>\n",
       "    <tr>\n",
       "      <th>pm10</th>\n",
       "      <td>0.109668</td>\n",
       "      <td>1.000000</td>\n",
       "      <td>0.741881</td>\n",
       "      <td>-0.156153</td>\n",
       "    </tr>\n",
       "    <tr>\n",
       "      <th>pm25</th>\n",
       "      <td>0.165976</td>\n",
       "      <td>0.741881</td>\n",
       "      <td>1.000000</td>\n",
       "      <td>-0.211980</td>\n",
       "    </tr>\n",
       "    <tr>\n",
       "      <th>temperature</th>\n",
       "      <td>-0.541027</td>\n",
       "      <td>-0.156153</td>\n",
       "      <td>-0.211980</td>\n",
       "      <td>1.000000</td>\n",
       "    </tr>\n",
       "  </tbody>\n",
       "</table>\n",
       "</div>"
      ],
      "text/plain": [
       "phenomenon   humidity      pm10      pm25  temperature\n",
       "phenomenon                                            \n",
       "humidity     1.000000  0.109668  0.165976    -0.541027\n",
       "pm10         0.109668  1.000000  0.741881    -0.156153\n",
       "pm25         0.165976  0.741881  1.000000    -0.211980\n",
       "temperature -0.541027 -0.156153 -0.211980     1.000000"
      ]
     },
     "execution_count": 6,
     "metadata": {},
     "output_type": "execute_result"
    }
   ],
   "source": [
    "data.corr(method='pearson', numeric_only=True)"
   ]
  }
 ],
 "metadata": {
  "kernelspec": {
   "display_name": "Python 3 (ipykernel)",
   "language": "python",
   "name": "python3"
  },
  "language_info": {
   "codemirror_mode": {
    "name": "ipython",
    "version": 3
   },
   "file_extension": ".py",
   "mimetype": "text/x-python",
   "name": "python",
   "nbconvert_exporter": "python",
   "pygments_lexer": "ipython3",
   "version": "3.12.2"
  }
 },
 "nbformat": 4,
 "nbformat_minor": 5
}
